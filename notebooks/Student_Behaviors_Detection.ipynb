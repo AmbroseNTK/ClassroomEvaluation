{
  "nbformat": 4,
  "nbformat_minor": 0,
  "metadata": {
    "colab": {
      "name": "Student Behaviors Detection.ipynb",
      "version": "0.3.2",
      "provenance": [],
      "collapsed_sections": [],
      "include_colab_link": true
    },
    "kernelspec": {
      "name": "python3",
      "display_name": "Python 3"
    },
    "accelerator": "GPU"
  },
  "cells": [
    {
      "cell_type": "markdown",
      "metadata": {
        "id": "view-in-github",
        "colab_type": "text"
      },
      "source": [
        "<a href=\"https://colab.research.google.com/github/AmbroseNTK/ClassroomEvaluation/blob/master/notebooks/Student_Behaviors_Detection.ipynb\" target=\"_parent\"><img src=\"https://colab.research.google.com/assets/colab-badge.svg\" alt=\"Open In Colab\"/></a>"
      ]
    },
    {
      "cell_type": "markdown",
      "metadata": {
        "id": "lHeXnXHtDYv8",
        "colab_type": "text"
      },
      "source": [
        "# Student's behaviors Detection\n",
        "Student's activities in class in one of the important critical to evaluate course's quality.\n",
        "Based on Object Detection problem, using TensorFlow Object Detection API to make a model.\n",
        "\n",
        "First of all, I need prepare training data using LabelImg tools in other to crop student's behaviors in classroom video recording.\n",
        "\n",
        "Then, I upload it to my Google Drive to help training process on Colab. Why I use Colab? Because Colab allow me use GPU Tesla K80 which was optimized for the Machine Learning tasks, specially, TensorFlow."
      ]
    },
    {
      "cell_type": "markdown",
      "metadata": {
        "id": "6Zv9VMQGFzaS",
        "colab_type": "text"
      },
      "source": [
        "## 1. Data Preparation\n",
        "Mount Google drive to this kernel in other to copy training data"
      ]
    },
    {
      "cell_type": "code",
      "metadata": {
        "id": "glM-F8DfnKSG",
        "colab_type": "code",
        "outputId": "bea3df36-f2bf-498b-bc01-4ed35a51b278",
        "colab": {
          "base_uri": "https://localhost:8080/",
          "height": 123
        }
      },
      "source": [
        "# Run this cell to mount your Google Drive.\n",
        "from google.colab import drive\n",
        "drive.mount('/content/drive', force_remount=True)"
      ],
      "execution_count": 0,
      "outputs": [
        {
          "output_type": "stream",
          "text": [
            "Go to this URL in a browser: https://accounts.google.com/o/oauth2/auth?client_id=947318989803-6bn6qk8qdgf4n4g3pfee6491hc0brc4i.apps.googleusercontent.com&redirect_uri=urn%3Aietf%3Awg%3Aoauth%3A2.0%3Aoob&scope=email%20https%3A%2F%2Fwww.googleapis.com%2Fauth%2Fdocs.test%20https%3A%2F%2Fwww.googleapis.com%2Fauth%2Fdrive%20https%3A%2F%2Fwww.googleapis.com%2Fauth%2Fdrive.photos.readonly%20https%3A%2F%2Fwww.googleapis.com%2Fauth%2Fpeopleapi.readonly&response_type=code\n",
            "\n",
            "Enter your authorization code:\n",
            "··········\n",
            "Mounted at /content/drive\n"
          ],
          "name": "stdout"
        }
      ]
    },
    {
      "cell_type": "markdown",
      "metadata": {
        "id": "QKnXPPu0GHBd",
        "colab_type": "text"
      },
      "source": [
        "Download TensorFlow models from GitHub"
      ]
    },
    {
      "cell_type": "code",
      "metadata": {
        "id": "Tv6p5duKu_4p",
        "colab_type": "code",
        "outputId": "b967ecca-0819-42f5-9d50-3b4babd04430",
        "colab": {
          "base_uri": "https://localhost:8080/",
          "height": 137
        }
      },
      "source": [
        "!git clone https://github.com/tensorflow/models.git"
      ],
      "execution_count": 0,
      "outputs": [
        {
          "output_type": "stream",
          "text": [
            "Cloning into 'models'...\n",
            "remote: Enumerating objects: 1, done.\u001b[K\n",
            "remote: Counting objects: 100% (1/1), done.\u001b[K\n",
            "remote: Total 28196 (delta 0), reused 0 (delta 0), pack-reused 28195\u001b[K\n",
            "Receiving objects: 100% (28196/28196), 509.34 MiB | 29.59 MiB/s, done.\n",
            "Resolving deltas: 100% (17368/17368), done.\n",
            "Checking out files: 100% (3004/3004), done.\n"
          ],
          "name": "stdout"
        }
      ]
    },
    {
      "cell_type": "markdown",
      "metadata": {
        "id": "hCtRBD8TGQw-",
        "colab_type": "text"
      },
      "source": [
        "Copy and unzip my dataset"
      ]
    },
    {
      "cell_type": "code",
      "metadata": {
        "id": "WN_3glIBnyHC",
        "colab_type": "code",
        "colab": {}
      },
      "source": [
        "!cp \"/content/drive/My Drive/dataset.zip\" models/research/object_detection"
      ],
      "execution_count": 0,
      "outputs": []
    },
    {
      "cell_type": "code",
      "metadata": {
        "id": "DKxkhVj-YJ4P",
        "colab_type": "code",
        "colab": {}
      },
      "source": [
        "!cd models/research/object_detection && unzip dataset.zip "
      ],
      "execution_count": 0,
      "outputs": []
    },
    {
      "cell_type": "markdown",
      "metadata": {
        "id": "J9euOAVrGW76",
        "colab_type": "text"
      },
      "source": [
        "## 2. Setup API\n",
        "\n",
        "Download pretrained object detection model from TensorFlow\n",
        "\n",
        "In this case, I use Inception v2."
      ]
    },
    {
      "cell_type": "code",
      "metadata": {
        "id": "7Hn9-Zobu1N-",
        "colab_type": "code",
        "outputId": "430d4530-4a81-4198-c1bf-378efef598c1",
        "colab": {
          "base_uri": "https://localhost:8080/",
          "height": 206
        }
      },
      "source": [
        "!wget http://download.tensorflow.org/models/object_detection/faster_rcnn_inception_v2_coco_2018_01_28.tar.gz"
      ],
      "execution_count": 0,
      "outputs": [
        {
          "output_type": "stream",
          "text": [
            "--2019-07-08 04:05:16--  http://download.tensorflow.org/models/object_detection/faster_rcnn_inception_v2_coco_2018_01_28.tar.gz\n",
            "Resolving download.tensorflow.org (download.tensorflow.org)... 173.194.76.128, 2a00:1450:400c:c00::80\n",
            "Connecting to download.tensorflow.org (download.tensorflow.org)|173.194.76.128|:80... connected.\n",
            "HTTP request sent, awaiting response... 200 OK\n",
            "Length: 149119618 (142M) [application/x-tar]\n",
            "Saving to: ‘faster_rcnn_inception_v2_coco_2018_01_28.tar.gz’\n",
            "\n",
            "faster_rcnn_incepti 100%[===================>] 142.21M  89.2MB/s    in 1.6s    \n",
            "\n",
            "2019-07-08 04:05:18 (89.2 MB/s) - ‘faster_rcnn_inception_v2_coco_2018_01_28.tar.gz’ saved [149119618/149119618]\n",
            "\n"
          ],
          "name": "stdout"
        }
      ]
    },
    {
      "cell_type": "code",
      "metadata": {
        "id": "EjnP-JqYu4Pq",
        "colab_type": "code",
        "outputId": "748b4d1f-83ab-4c8a-f1cd-1b27c1ac8caf",
        "colab": {
          "base_uri": "https://localhost:8080/",
          "height": 189
        }
      },
      "source": [
        "!tar -xvzf faster_rcnn_inception_v2_coco_2018_01_28.tar.gz"
      ],
      "execution_count": 0,
      "outputs": [
        {
          "output_type": "stream",
          "text": [
            "faster_rcnn_inception_v2_coco_2018_01_28/\n",
            "faster_rcnn_inception_v2_coco_2018_01_28/model.ckpt.index\n",
            "faster_rcnn_inception_v2_coco_2018_01_28/checkpoint\n",
            "faster_rcnn_inception_v2_coco_2018_01_28/pipeline.config\n",
            "faster_rcnn_inception_v2_coco_2018_01_28/model.ckpt.data-00000-of-00001\n",
            "faster_rcnn_inception_v2_coco_2018_01_28/model.ckpt.meta\n",
            "faster_rcnn_inception_v2_coco_2018_01_28/saved_model/\n",
            "faster_rcnn_inception_v2_coco_2018_01_28/saved_model/saved_model.pb\n",
            "faster_rcnn_inception_v2_coco_2018_01_28/saved_model/variables/\n",
            "faster_rcnn_inception_v2_coco_2018_01_28/frozen_inference_graph.pb\n"
          ],
          "name": "stdout"
        }
      ]
    },
    {
      "cell_type": "code",
      "metadata": {
        "id": "rw-xeZRnty79",
        "colab_type": "code",
        "colab": {}
      },
      "source": [
        "!mkdir models/research/object_detection/training"
      ],
      "execution_count": 0,
      "outputs": []
    },
    {
      "cell_type": "code",
      "metadata": {
        "id": "U608tzJ3vHka",
        "colab_type": "code",
        "colab": {}
      },
      "source": [
        "!cp -r faster_rcnn_inception_v2_coco_2018_01_28 models/research/object_detection/faster_rcnn_inception_v2_coco_2018_01_28"
      ],
      "execution_count": 0,
      "outputs": []
    },
    {
      "cell_type": "markdown",
      "metadata": {
        "id": "Nfwsw0tyG9sF",
        "colab_type": "text"
      },
      "source": [
        "Install TensorFlow Object Detection API for Python 3.6"
      ]
    },
    {
      "cell_type": "code",
      "metadata": {
        "id": "_CO42Wmkvxes",
        "colab_type": "code",
        "colab": {}
      },
      "source": [
        "!cd models/research && protoc object_detection/protos/*.proto --python_out=."
      ],
      "execution_count": 0,
      "outputs": []
    },
    {
      "cell_type": "code",
      "metadata": {
        "id": "QdNcQ9Raqp3v",
        "colab_type": "code",
        "colab": {}
      },
      "source": [
        "!cd models/research/ && python setup.py build && python setup.py install && export PYTHONPATH=$PYTHONPATH:pwd:pwd/slim"
      ],
      "execution_count": 0,
      "outputs": []
    },
    {
      "cell_type": "code",
      "metadata": {
        "id": "q1m6JGyPY1u8",
        "colab_type": "code",
        "colab": {}
      },
      "source": [
        "!cd models/research && export PYTHONPATH=$PYTHONPATH:pwd:pwd/slim && cp -r ./slim/nets ./object_detection"
      ],
      "execution_count": 0,
      "outputs": []
    },
    {
      "cell_type": "code",
      "metadata": {
        "id": "gGNc5GuVdYVk",
        "colab_type": "code",
        "colab": {}
      },
      "source": [
        "!cp -r models/research/slim/* models/research/object_detection/"
      ],
      "execution_count": 0,
      "outputs": []
    },
    {
      "cell_type": "markdown",
      "metadata": {
        "id": "O1tAjtdoHQhD",
        "colab_type": "text"
      },
      "source": [
        "## 3. Training\n",
        "Start training using script **model_main.py**\n",
        "\n",
        "In training process, please notice the location of checkpoint. It is put in **/tmp/\\<ID\\>/** folder, where ID is generated in the run time "
      ]
    },
    {
      "cell_type": "code",
      "metadata": {
        "id": "DrXzMl_fq4n8",
        "colab_type": "code",
        "colab": {}
      },
      "source": [
        "!cd models/research/object_detection/ && python model_main.py --logtostderr --train_dir=training/ --pipeline_config_path=training/frcnn-colab.config"
      ],
      "execution_count": 0,
      "outputs": []
    },
    {
      "cell_type": "markdown",
      "metadata": {
        "id": "USvKpKMJH9jh",
        "colab_type": "text"
      },
      "source": [
        "In this case, ID is **tmpaiqr9_b9**\n",
        "\n",
        "Copy all file from this folder and zip them into **checkpoints.zip**\n",
        "\n",
        "This checkpoints can be used for pretraining"
      ]
    },
    {
      "cell_type": "code",
      "metadata": {
        "id": "YT9RFLsPrdiA",
        "colab_type": "code",
        "colab": {}
      },
      "source": [
        "!cp -r /tmp/tmpaiqr9_b9 /content/"
      ],
      "execution_count": 0,
      "outputs": []
    },
    {
      "cell_type": "code",
      "metadata": {
        "id": "q6DcXRqS1qx1",
        "colab_type": "code",
        "outputId": "deed7308-eba5-4692-8a6c-fe5d4d42b970",
        "colab": {
          "base_uri": "https://localhost:8080/",
          "height": 378
        }
      },
      "source": [
        "!zip -r checkpoints.zip tmpaiqr9_b9"
      ],
      "execution_count": 0,
      "outputs": [
        {
          "output_type": "stream",
          "text": [
            "  adding: tmpaiqr9_b9/ (stored 0%)\n",
            "  adding: tmpaiqr9_b9/eval_0/ (stored 0%)\n",
            "  adding: tmpaiqr9_b9/eval_0/events.out.tfevents.1562560099.83ff4eb6abd7 (deflated 8%)\n",
            "  adding: tmpaiqr9_b9/graph.pbtxt (deflated 97%)\n",
            "  adding: tmpaiqr9_b9/checkpoint (deflated 71%)\n",
            "  adding: tmpaiqr9_b9/model.ckpt-23477.meta (deflated 94%)\n",
            "  adding: tmpaiqr9_b9/model.ckpt-21067.data-00000-of-00001 (deflated 8%)\n",
            "  adding: tmpaiqr9_b9/model.ckpt-22284.data-00000-of-00001 (deflated 8%)\n",
            "  adding: tmpaiqr9_b9/model.ckpt-23477.data-00000-of-00001 (deflated 8%)\n",
            "  adding: tmpaiqr9_b9/model.ckpt-19845.index (deflated 72%)\n",
            "  adding: tmpaiqr9_b9/model.ckpt-19845.meta (deflated 94%)\n",
            "  adding: tmpaiqr9_b9/model.ckpt-21067.index (deflated 72%)\n",
            "  adding: tmpaiqr9_b9/model.ckpt-19845.data-00000-of-00001 (deflated 8%)\n",
            "  adding: tmpaiqr9_b9/model.ckpt-18662.meta (deflated 94%)\n",
            "  adding: tmpaiqr9_b9/model.ckpt-18662.index (deflated 72%)\n",
            "  adding: tmpaiqr9_b9/model.ckpt-18662.data-00000-of-00001 (deflated 8%)\n",
            "  adding: tmpaiqr9_b9/model.ckpt-21067.meta (deflated 94%)\n",
            "  adding: tmpaiqr9_b9/model.ckpt-23477.index (deflated 72%)\n",
            "  adding: tmpaiqr9_b9/model.ckpt-22284.meta (deflated 94%)\n",
            "  adding: tmpaiqr9_b9/events.out.tfevents.1562559288.83ff4eb6abd7 (deflated 94%)\n",
            "  adding: tmpaiqr9_b9/model.ckpt-22284.index (deflated 72%)\n"
          ],
          "name": "stdout"
        }
      ]
    },
    {
      "cell_type": "markdown",
      "metadata": {
        "id": "MY_QoRtMIau5",
        "colab_type": "text"
      },
      "source": [
        "To deploy usable model, using **export_inference_graph.py** script"
      ]
    },
    {
      "cell_type": "code",
      "metadata": {
        "id": "OPT90kgy12Wv",
        "colab_type": "code",
        "colab": {}
      },
      "source": [
        "!cd models/research/object_detection/ && python export_inference_graph.py --input_type image_tensor --pipeline_config_path training/frcnn-colab.config --trained_checkpoint_prefix /content/tmpaiqr9_b9/model.ckpt-23477 --output_directory /content/inference_graph"
      ],
      "execution_count": 0,
      "outputs": []
    },
    {
      "cell_type": "markdown",
      "metadata": {
        "id": "4A4ufVrWIjAC",
        "colab_type": "text"
      },
      "source": [
        "Zip the result and copy it to GDrive"
      ]
    },
    {
      "cell_type": "code",
      "metadata": {
        "id": "ql8AnnQe3AuG",
        "colab_type": "code",
        "colab": {}
      },
      "source": [
        "!cp -r /content/models/research/object_detection/content /content"
      ],
      "execution_count": 0,
      "outputs": []
    },
    {
      "cell_type": "code",
      "metadata": {
        "id": "s7yncXcC3pM-",
        "colab_type": "code",
        "outputId": "7282d5cb-6ade-41ec-e7e9-ec1a16fb6159",
        "colab": {
          "base_uri": "https://localhost:8080/",
          "height": 189
        }
      },
      "source": [
        "!zip -r inferenced.zip /content/inference_graph"
      ],
      "execution_count": 0,
      "outputs": [
        {
          "output_type": "stream",
          "text": [
            "  adding: content/inference_graph/ (stored 0%)\n",
            "  adding: content/inference_graph/checkpoint (deflated 42%)\n",
            "  adding: content/inference_graph/model.ckpt.index (deflated 70%)\n",
            "  adding: content/inference_graph/model.ckpt.meta (deflated 95%)\n",
            "  adding: content/inference_graph/saved_model/ (stored 0%)\n",
            "  adding: content/inference_graph/saved_model/variables/ (stored 0%)\n",
            "  adding: content/inference_graph/saved_model/saved_model.pb (deflated 11%)\n",
            "  adding: content/inference_graph/frozen_inference_graph.pb (deflated 11%)\n",
            "  adding: content/inference_graph/model.ckpt.data-00000-of-00001 (deflated 7%)\n",
            "  adding: content/inference_graph/pipeline.config (deflated 66%)\n"
          ],
          "name": "stdout"
        }
      ]
    },
    {
      "cell_type": "code",
      "metadata": {
        "id": "kob4HnqP4b2Q",
        "colab_type": "code",
        "colab": {}
      },
      "source": [
        "!cp inferenced.zip \"/content/drive/My Drive\""
      ],
      "execution_count": 0,
      "outputs": []
    }
  ]
}